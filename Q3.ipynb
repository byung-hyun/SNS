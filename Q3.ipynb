{
 "cells": [
  {
   "cell_type": "code",
   "execution_count": 7,
   "id": "6e771b61-7d1c-4fd7-b1fb-cede9299324c",
   "metadata": {},
   "outputs": [
    {
     "name": "stdout",
     "output_type": "stream",
     "text": [
      "================================================================================\n",
      " pixbay 사이트 이미지를 검색하여 수집하는 크롤러입니다\n",
      "================================================================================\n"
     ]
    },
    {
     "name": "stdin",
     "output_type": "stream",
     "text": [
      "1. 크롤링할 이미지의 키워드는 무엇입니까?:  고양이\n",
      "2. 크롤링 할 건수는 몇건입니까?: 20\n",
      "3. 파일이 저장될 경로만 쓰세요(예: c:/temp:  C:/Users/User/Desktop/sns/Q3\n"
     ]
    },
    {
     "name": "stdout",
     "output_type": "stream",
     "text": [
      "1/20 수집 완료\n",
      "2/20 수집 완료\n",
      "3/20 수집 완료\n",
      "4/20 수집 완료\n",
      "5/20 수집 완료\n",
      "6/20 수집 완료\n",
      "7/20 수집 완료\n",
      "8/20 수집 완료\n",
      "9/20 수집 완료\n",
      "10/20 수집 완료\n",
      "11/20 수집 완료\n",
      "12/20 수집 완료\n",
      "13/20 수집 완료\n",
      "14/20 수집 완료\n",
      "15/20 수집 완료\n",
      "16/20 수집 완료\n",
      "17/20 수집 완료\n",
      "18/20 수집 완료\n",
      "19/20 수집 완료\n",
      "20/20 수집 완료\n",
      "총 20 개의 이미지를 다운로드했습니다.\n"
     ]
    }
   ],
   "source": [
    "from selenium import webdriver\n",
    "from bs4 import BeautifulSoup\n",
    "import time\n",
    "import os\n",
    "import requests\n",
    "\n",
    "print(\"=\"*80)\n",
    "print(\" pixbay 사이트 이미지를 검색하여 수집하는 크롤러입니다\")\n",
    "print(\"=\"*80)\n",
    "keyword = input(\"1. 크롤링할 이미지의 키워드는 무엇입니까?: \")\n",
    "img_count = int(input(\"2. 크롤링 할 건수는 몇건입니까?:\"))\n",
    "folder = input(\"3. 파일이 저장될 경로만 쓰세요(예: c:/temp: \")\n",
    "\n",
    "driver = webdriver.Chrome()\n",
    "\n",
    "session = requests.Session()\n",
    "session.headers.update({'User-Agent': 'Mozilla/5.0'})\n",
    "\n",
    "img_number = 1\n",
    "page_num = 1\n",
    "scroll_time = 4\n",
    "\n",
    "while img_number <= img_count:\n",
    "    url = f\"https://pixabay.com/ko/images/search/{keyword}/?pagi={page_num}\"\n",
    "    driver.get(url)\n",
    "    time.sleep(4) \n",
    "\n",
    "    soup = BeautifulSoup(driver.page_source, 'html.parser')\n",
    "\n",
    "    img_tags = soup.select('img')\n",
    "\n",
    "    for img_tag in img_tags:\n",
    "        img_url = img_tag.get('src')\n",
    "\n",
    "        if img_url and img_url.startswith('https://cdn.pixabay.com/photo'):\n",
    "            print(f\"{img_number}/{img_count} 수집 완료\")\n",
    "            save_path = os.path.join(folder, f'{img_number}.jpg')\n",
    "            \n",
    "            try:\n",
    "                response = session.get(img_url, stream=True)\n",
    "                response.raise_for_status()\n",
    "                with open(save_path, \"wb\") as f:\n",
    "                    for chunk in response.iter_content(chunk_size=1024):\n",
    "                        if chunk:\n",
    "                            f.write(chunk)\n",
    "                img_number += 1\n",
    "\n",
    "                if img_number > img_count:\n",
    "                    break\n",
    "            except:\n",
    "                print(\"이미지 다운로드에 실패하였습니다. \")\n",
    "\n",
    "    driver.execute_script(\"window.scrollTo(0, document.body.scrollHeight);\")\n",
    "    time.sleep(scroll_time)\n",
    "    \n",
    "    page_num += 1\n",
    "\n",
    "print(f\"총 {img_count} 개의 이미지를 다운로드했습니다.\")\n",
    "driver.quit()\n"
   ]
  },
  {
   "cell_type": "code",
   "execution_count": null,
   "id": "857dacda-b75c-43d1-ac07-2f765bea5d28",
   "metadata": {},
   "outputs": [],
   "source": []
  }
 ],
 "metadata": {
  "kernelspec": {
   "display_name": "Python 3 (ipykernel)",
   "language": "python",
   "name": "python3"
  },
  "language_info": {
   "codemirror_mode": {
    "name": "ipython",
    "version": 3
   },
   "file_extension": ".py",
   "mimetype": "text/x-python",
   "name": "python",
   "nbconvert_exporter": "python",
   "pygments_lexer": "ipython3",
   "version": "3.8.1"
  }
 },
 "nbformat": 4,
 "nbformat_minor": 5
}

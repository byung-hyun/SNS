{
 "cells": [
  {
   "cell_type": "code",
   "execution_count": 4,
   "id": "e2cd495f-5c17-4dee-87f4-e143611ccb83",
   "metadata": {},
   "outputs": [
    {
     "name": "stdout",
     "output_type": "stream",
     "text": [
      "================================================================================\n",
      " 연습문제 7-4. 구글 사이트에서 pdf 파일을 검색하여 수집하는 크롤러\n",
      "================================================================================\n"
     ]
    },
    {
     "name": "stdin",
     "output_type": "stream",
     "text": [
      "1. 크롤링할 키워드를 무엇입니까?:  빅데이터\n",
      "2. 크롤링 할 건수는 몇건입니까?:  6\n",
      "3. 파일이 저장될 경로만 쓰세요(예: c:/temp):  C:/Users/User/Desktop/sns/Q4\n"
     ]
    },
    {
     "name": "stdout",
     "output_type": "stream",
     "text": [
      "입력하신 경로가 존재하여 C:/Users/User/Desktop/sns/Q4 폴더에 저장하겠습니다.\n",
      "1/6 수집 완료\n",
      "2/6 수집 완료\n",
      "3/6 수집 완료\n",
      "4/6 수집 완료\n",
      "5/6 수집 완료\n",
      "6/6 수집 완료\n",
      "총 6개의 PDF 파일을 다운로드했습니다.\n"
     ]
    }
   ],
   "source": [
    "import os\n",
    "import requests\n",
    "import time\n",
    "from selenium import webdriver\n",
    "from bs4 import BeautifulSoup\n",
    "\n",
    "print(\"=\"*80)\n",
    "print(\" 연습문제 7-4. 구글 사이트에서 pdf 파일을 검색하여 수집하는 크롤러\")\n",
    "print(\"=\"*80)\n",
    "keyword = input(\"1. 크롤링할 키워드를 무엇입니까?: \")\n",
    "file_count = int(input(\"2. 크롤링 할 건수는 몇건입니까?: \"))\n",
    "folder = input(\"3. 파일이 저장될 경로만 쓰세요(예: c:/temp): \")\n",
    "\n",
    "if os.path.isdir(folder):\n",
    "    print(f\"입력하신 경로가 존재하여 {folder} 폴더에 저장하겠습니다.\")\n",
    "else:\n",
    "    print(\"입력하신 경로가 존재하지 않습니다.\")\n",
    "\n",
    "driver = webdriver.Chrome()\n",
    "\n",
    "search_url = f\"https://www.google.com/search?q={keyword}+filetype:pdf\"\n",
    "driver.get(search_url)\n",
    "time.sleep(2) \n",
    "\n",
    "pdf_total = []\n",
    "while len(pdf_total) < file_count:\n",
    "    soup = BeautifulSoup(driver.page_source, 'html.parser')    \n",
    "    pdf_search = soup.select('a')\n",
    "    for i in pdf_search:\n",
    "        href = i.get('href')\n",
    "        if href and href.endswith('.pdf') and href not in pdf_total:\n",
    "            pdf_total.append(href)\n",
    "            if len(pdf_total) >= file_count:\n",
    "                break\n",
    "\n",
    "pdf_count = 0\n",
    "for pdf_link in pdf_total[:file_count]:\n",
    "    pdf_name = os.path.basename(pdf_link)\n",
    "    pdf_folder = os.path.join(folder, pdf_name)\n",
    "    \n",
    "    try:\n",
    "        response = requests.get(pdf_link)\n",
    "        with open(pdf_folder, 'wb') as p:\n",
    "                p.write(response.content)\n",
    "        pdf_count += 1\n",
    "        print(f\"{pdf_count}/{file_count} 수집 완료\")\n",
    "    except :\n",
    "        print(\"다운로드에 실패하였습니다.\")\n",
    "\n",
    "driver.quit()\n",
    "print(f\"총 {pdf_count}개의 PDF 파일을 다운로드했습니다.\")"
   ]
  },
  {
   "cell_type": "code",
   "execution_count": null,
   "id": "bff6a781-0431-467b-bca5-c486dbdc6a9e",
   "metadata": {},
   "outputs": [],
   "source": []
  }
 ],
 "metadata": {
  "kernelspec": {
   "display_name": "Python 3 (ipykernel)",
   "language": "python",
   "name": "python3"
  },
  "language_info": {
   "codemirror_mode": {
    "name": "ipython",
    "version": 3
   },
   "file_extension": ".py",
   "mimetype": "text/x-python",
   "name": "python",
   "nbconvert_exporter": "python",
   "pygments_lexer": "ipython3",
   "version": "3.8.1"
  }
 },
 "nbformat": 4,
 "nbformat_minor": 5
}
